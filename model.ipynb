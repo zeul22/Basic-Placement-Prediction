{
 "cells": [
  {
   "cell_type": "code",
   "execution_count": 89,
   "id": "73e70e41",
   "metadata": {},
   "outputs": [],
   "source": [
    "import numpy as np\n",
    "import pandas as pd\n",
    "import seaborn as sns"
   ]
  },
  {
   "cell_type": "code",
   "execution_count": 90,
   "id": "49522b4a",
   "metadata": {},
   "outputs": [],
   "source": [
    "df=pd.read_csv(\"placement.csv\")"
   ]
  },
  {
   "cell_type": "code",
   "execution_count": 91,
   "id": "6b3c7ea8",
   "metadata": {},
   "outputs": [
    {
     "data": {
      "text/html": [
       "<div>\n",
       "<style scoped>\n",
       "    .dataframe tbody tr th:only-of-type {\n",
       "        vertical-align: middle;\n",
       "    }\n",
       "\n",
       "    .dataframe tbody tr th {\n",
       "        vertical-align: top;\n",
       "    }\n",
       "\n",
       "    .dataframe thead th {\n",
       "        text-align: right;\n",
       "    }\n",
       "</style>\n",
       "<table border=\"1\" class=\"dataframe\">\n",
       "  <thead>\n",
       "    <tr style=\"text-align: right;\">\n",
       "      <th></th>\n",
       "      <th>Unnamed: 0</th>\n",
       "      <th>cgpa</th>\n",
       "      <th>iq</th>\n",
       "      <th>placement</th>\n",
       "    </tr>\n",
       "  </thead>\n",
       "  <tbody>\n",
       "    <tr>\n",
       "      <th>0</th>\n",
       "      <td>0</td>\n",
       "      <td>6.8</td>\n",
       "      <td>123.0</td>\n",
       "      <td>1</td>\n",
       "    </tr>\n",
       "    <tr>\n",
       "      <th>1</th>\n",
       "      <td>1</td>\n",
       "      <td>5.9</td>\n",
       "      <td>106.0</td>\n",
       "      <td>0</td>\n",
       "    </tr>\n",
       "    <tr>\n",
       "      <th>2</th>\n",
       "      <td>2</td>\n",
       "      <td>5.3</td>\n",
       "      <td>121.0</td>\n",
       "      <td>0</td>\n",
       "    </tr>\n",
       "    <tr>\n",
       "      <th>3</th>\n",
       "      <td>3</td>\n",
       "      <td>7.4</td>\n",
       "      <td>132.0</td>\n",
       "      <td>1</td>\n",
       "    </tr>\n",
       "    <tr>\n",
       "      <th>4</th>\n",
       "      <td>4</td>\n",
       "      <td>5.8</td>\n",
       "      <td>142.0</td>\n",
       "      <td>0</td>\n",
       "    </tr>\n",
       "  </tbody>\n",
       "</table>\n",
       "</div>"
      ],
      "text/plain": [
       "   Unnamed: 0  cgpa     iq  placement\n",
       "0           0   6.8  123.0          1\n",
       "1           1   5.9  106.0          0\n",
       "2           2   5.3  121.0          0\n",
       "3           3   7.4  132.0          1\n",
       "4           4   5.8  142.0          0"
      ]
     },
     "execution_count": 91,
     "metadata": {},
     "output_type": "execute_result"
    }
   ],
   "source": [
    "df.head()"
   ]
  },
  {
   "cell_type": "code",
   "execution_count": 92,
   "id": "be121208",
   "metadata": {},
   "outputs": [],
   "source": [
    "df=df.drop(df.columns[0],axis=1)"
   ]
  },
  {
   "cell_type": "code",
   "execution_count": 93,
   "id": "b1265a04",
   "metadata": {},
   "outputs": [
    {
     "name": "stdout",
     "output_type": "stream",
     "text": [
      "<class 'pandas.core.frame.DataFrame'>\n",
      "RangeIndex: 100 entries, 0 to 99\n",
      "Data columns (total 3 columns):\n",
      " #   Column     Non-Null Count  Dtype  \n",
      "---  ------     --------------  -----  \n",
      " 0   cgpa       100 non-null    float64\n",
      " 1   iq         100 non-null    float64\n",
      " 2   placement  100 non-null    int64  \n",
      "dtypes: float64(2), int64(1)\n",
      "memory usage: 2.5 KB\n"
     ]
    }
   ],
   "source": [
    "df.info()"
   ]
  },
  {
   "cell_type": "code",
   "execution_count": 94,
   "id": "6e08cc9a",
   "metadata": {},
   "outputs": [
    {
     "data": {
      "text/html": [
       "<div>\n",
       "<style scoped>\n",
       "    .dataframe tbody tr th:only-of-type {\n",
       "        vertical-align: middle;\n",
       "    }\n",
       "\n",
       "    .dataframe tbody tr th {\n",
       "        vertical-align: top;\n",
       "    }\n",
       "\n",
       "    .dataframe thead th {\n",
       "        text-align: right;\n",
       "    }\n",
       "</style>\n",
       "<table border=\"1\" class=\"dataframe\">\n",
       "  <thead>\n",
       "    <tr style=\"text-align: right;\">\n",
       "      <th></th>\n",
       "      <th>cgpa</th>\n",
       "      <th>iq</th>\n",
       "      <th>placement</th>\n",
       "    </tr>\n",
       "  </thead>\n",
       "  <tbody>\n",
       "    <tr>\n",
       "      <th>count</th>\n",
       "      <td>100.000000</td>\n",
       "      <td>100.000000</td>\n",
       "      <td>100.000000</td>\n",
       "    </tr>\n",
       "    <tr>\n",
       "      <th>mean</th>\n",
       "      <td>5.991000</td>\n",
       "      <td>123.580000</td>\n",
       "      <td>0.500000</td>\n",
       "    </tr>\n",
       "    <tr>\n",
       "      <th>std</th>\n",
       "      <td>1.143634</td>\n",
       "      <td>39.944198</td>\n",
       "      <td>0.502519</td>\n",
       "    </tr>\n",
       "    <tr>\n",
       "      <th>min</th>\n",
       "      <td>3.300000</td>\n",
       "      <td>37.000000</td>\n",
       "      <td>0.000000</td>\n",
       "    </tr>\n",
       "    <tr>\n",
       "      <th>25%</th>\n",
       "      <td>5.075000</td>\n",
       "      <td>101.500000</td>\n",
       "      <td>0.000000</td>\n",
       "    </tr>\n",
       "    <tr>\n",
       "      <th>50%</th>\n",
       "      <td>6.000000</td>\n",
       "      <td>127.500000</td>\n",
       "      <td>0.500000</td>\n",
       "    </tr>\n",
       "    <tr>\n",
       "      <th>75%</th>\n",
       "      <td>6.900000</td>\n",
       "      <td>149.000000</td>\n",
       "      <td>1.000000</td>\n",
       "    </tr>\n",
       "    <tr>\n",
       "      <th>max</th>\n",
       "      <td>8.500000</td>\n",
       "      <td>233.000000</td>\n",
       "      <td>1.000000</td>\n",
       "    </tr>\n",
       "  </tbody>\n",
       "</table>\n",
       "</div>"
      ],
      "text/plain": [
       "             cgpa          iq   placement\n",
       "count  100.000000  100.000000  100.000000\n",
       "mean     5.991000  123.580000    0.500000\n",
       "std      1.143634   39.944198    0.502519\n",
       "min      3.300000   37.000000    0.000000\n",
       "25%      5.075000  101.500000    0.000000\n",
       "50%      6.000000  127.500000    0.500000\n",
       "75%      6.900000  149.000000    1.000000\n",
       "max      8.500000  233.000000    1.000000"
      ]
     },
     "execution_count": 94,
     "metadata": {},
     "output_type": "execute_result"
    }
   ],
   "source": [
    "df.describe()"
   ]
  },
  {
   "cell_type": "code",
   "execution_count": 95,
   "id": "08065293",
   "metadata": {},
   "outputs": [
    {
     "data": {
      "text/plain": [
       "(100, 3)"
      ]
     },
     "execution_count": 95,
     "metadata": {},
     "output_type": "execute_result"
    }
   ],
   "source": [
    "df.shape"
   ]
  },
  {
   "cell_type": "code",
   "execution_count": 96,
   "id": "b7c07c40",
   "metadata": {},
   "outputs": [
    {
     "data": {
      "text/plain": [
       "<AxesSubplot:xlabel='iq', ylabel='cgpa'>"
      ]
     },
     "execution_count": 96,
     "metadata": {},
     "output_type": "execute_result"
    },
    {
     "data": {
      "image/png": "[encoded data removed]",
      "text/plain": [
       "<Figure size 432x288 with 1 Axes>"
      ]
     },
     "metadata": {
      "needs_background": "light"
     },
     "output_type": "display_data"
    }
   ],
   "source": [
    "sns.scatterplot(x=df[\"iq\"],y=df[\"cgpa\"],data=df) #independent features"
   ]
  },
  {
   "cell_type": "code",
   "execution_count": 97,
   "id": "f09579ae",
   "metadata": {},
   "outputs": [
    {
     "data": {
      "text/plain": [
       "<AxesSubplot:xlabel='iq', ylabel='cgpa'>"
      ]
     },
     "execution_count": 97,
     "metadata": {},
     "output_type": "execute_result"
    },
    {
     "data": {
      "image/png": "[encoded data removed]",
      "text/plain": [
       "<Figure size 432x288 with 1 Axes>"
      ]
     },
     "metadata": {
      "needs_background": "light"
     },
     "output_type": "display_data"
    }
   ],
   "source": [
    "sns.scatterplot(x=df[\"iq\"],y=df[\"cgpa\"],data=df,c=df[\"placement\"])\n",
    "#Important insight through color difference"
   ]
  },
  {
   "cell_type": "code",
   "execution_count": 98,
   "id": "115092df",
   "metadata": {},
   "outputs": [
    {
     "data": {
      "text/plain": [
       "<AxesSubplot:xlabel='placement', ylabel='iq'>"
      ]
     },
     "execution_count": 98,
     "metadata": {},
     "output_type": "execute_result"
    },
    {
     "data": {
      "image/png": "[encoded data removed]",
      "text/plain": [
       "<Figure size 432x288 with 1 Axes>"
      ]
     },
     "metadata": {
      "needs_background": "light"
     },
     "output_type": "display_data"
    }
   ],
   "source": [
    "sns.histplot(x=df[\"placement\"],y=df[\"iq\"],data=df) #Relation b/w placement and iq"
   ]
  },
  {
   "cell_type": "code",
   "execution_count": 99,
   "id": "8c2d64d3",
   "metadata": {},
   "outputs": [
    {
     "data": {
      "text/plain": [
       "<AxesSubplot:xlabel='placement', ylabel='cgpa'>"
      ]
     },
     "execution_count": 99,
     "metadata": {},
     "output_type": "execute_result"
    },
    {
     "data": {
      "image/png": "[encoded data removed]",
      "text/plain": [
       "<Figure size 432x288 with 1 Axes>"
      ]
     },
     "metadata": {
      "needs_background": "light"
     },
     "output_type": "display_data"
    }
   ],
   "source": [
    "sns.histplot(x=df[\"placement\"],y=df[\"cgpa\"],data=df) #Relation b/w placement and cgpa"
   ]
  },
  {
   "cell_type": "code",
   "execution_count": 102,
   "id": "f4a829b6",
   "metadata": {},
   "outputs": [],
   "source": [
    "x=df.iloc[:,df.columns!=\"placement\"]\n",
    "y=df[\"placement\"]"
   ]
  },
  {
   "cell_type": "code",
   "execution_count": 103,
   "id": "edabd675",
   "metadata": {},
   "outputs": [
    {
     "data": {
      "text/html": [
       "<div>\n",
       "<style scoped>\n",
       "    .dataframe tbody tr th:only-of-type {\n",
       "        vertical-align: middle;\n",
       "    }\n",
       "\n",
       "    .dataframe tbody tr th {\n",
       "        vertical-align: top;\n",
       "    }\n",
       "\n",
       "    .dataframe thead th {\n",
       "        text-align: right;\n",
       "    }\n",
       "</style>\n",
       "<table border=\"1\" class=\"dataframe\">\n",
       "  <thead>\n",
       "    <tr style=\"text-align: right;\">\n",
       "      <th></th>\n",
       "      <th>cgpa</th>\n",
       "      <th>iq</th>\n",
       "    </tr>\n",
       "  </thead>\n",
       "  <tbody>\n",
       "    <tr>\n",
       "      <th>0</th>\n",
       "      <td>6.8</td>\n",
       "      <td>123.0</td>\n",
       "    </tr>\n",
       "    <tr>\n",
       "      <th>1</th>\n",
       "      <td>5.9</td>\n",
       "      <td>106.0</td>\n",
       "    </tr>\n",
       "    <tr>\n",
       "      <th>2</th>\n",
       "      <td>5.3</td>\n",
       "      <td>121.0</td>\n",
       "    </tr>\n",
       "    <tr>\n",
       "      <th>3</th>\n",
       "      <td>7.4</td>\n",
       "      <td>132.0</td>\n",
       "    </tr>\n",
       "    <tr>\n",
       "      <th>4</th>\n",
       "      <td>5.8</td>\n",
       "      <td>142.0</td>\n",
       "    </tr>\n",
       "  </tbody>\n",
       "</table>\n",
       "</div>"
      ],
      "text/plain": [
       "   cgpa     iq\n",
       "0   6.8  123.0\n",
       "1   5.9  106.0\n",
       "2   5.3  121.0\n",
       "3   7.4  132.0\n",
       "4   5.8  142.0"
      ]
     },
     "execution_count": 103,
     "metadata": {},
     "output_type": "execute_result"
    }
   ],
   "source": [
    "x.head()"
   ]
  },
  {
   "cell_type": "code",
   "execution_count": 104,
   "id": "6c2f2451",
   "metadata": {},
   "outputs": [
    {
     "data": {
      "text/plain": [
       "0    1\n",
       "1    0\n",
       "2    0\n",
       "3    1\n",
       "4    0\n",
       "Name: placement, dtype: int64"
      ]
     },
     "execution_count": 104,
     "metadata": {},
     "output_type": "execute_result"
    }
   ],
   "source": [
    "y.head()"
   ]
  },
  {
   "cell_type": "code",
   "execution_count": 105,
   "id": "e883b7af",
   "metadata": {},
   "outputs": [],
   "source": [
    "from sklearn.model_selection import train_test_split"
   ]
  },
  {
   "cell_type": "code",
   "execution_count": 106,
   "id": "c810e872",
   "metadata": {},
   "outputs": [],
   "source": [
    "trainX,testX,trainY,testY=train_test_split(x,y,test_size=0.1,random_state=42)"
   ]
  },
  {
   "cell_type": "code",
   "execution_count": 107,
   "id": "10a60974",
   "metadata": {},
   "outputs": [
    {
     "data": {
      "text/plain": [
       "((90, 2), (10, 2), (90,), (10,))"
      ]
     },
     "execution_count": 107,
     "metadata": {},
     "output_type": "execute_result"
    }
   ],
   "source": [
    "trainX.shape,testX.shape,trainY.shape,testY.shape "
   ]
  },
  {
   "cell_type": "code",
   "execution_count": 108,
   "id": "7dce7ba0",
   "metadata": {},
   "outputs": [],
   "source": [
    "from sklearn.preprocessing import StandardScaler"
   ]
  },
  {
   "cell_type": "code",
   "execution_count": 109,
   "id": "ffea41df",
   "metadata": {},
   "outputs": [],
   "source": [
    "scaler=StandardScaler()"
   ]
  },
  {
   "cell_type": "code",
   "execution_count": 110,
   "id": "8ea4cca4",
   "metadata": {},
   "outputs": [],
   "source": [
    "trainX=scaler.fit_transform(trainX)"
   ]
  },
  {
   "cell_type": "code",
   "execution_count": 111,
   "id": "619cdf26",
   "metadata": {},
   "outputs": [
    {
     "data": {
      "text/plain": [
       "array([[-1.73718527, -0.62029848],\n",
       "       [ 1.45537303,  0.09806189],\n",
       "       [-0.9390457 , -1.62087186],\n",
       "       [ 0.03645823,  0.63683217],\n",
       "       [ 1.1893265 , -0.97947867],\n",
       "       [-0.14090612,  0.45724208],\n",
       "       [-0.9390457 ,  0.79076654],\n",
       "       [ 1.1893265 , -1.90308486],\n",
       "       [-0.49563482,  0.3802749 ],\n",
       "       [-1.82586745, -0.38939693],\n",
       "       [ 1.63273738, -0.26111829],\n",
       "       [-1.38245657,  0.63683217],\n",
       "       [ 0.92327998,  1.91961855],\n",
       "       [ 1.45537303, -0.90251149],\n",
       "       [ 2.2535126 , -0.10718393],\n",
       "       [-0.76168135,  1.32953682],\n",
       "       [-0.9390457 ,  0.25199626],\n",
       "       [-1.38245657, -2.10833068],\n",
       "       [-0.76168135, -1.49259322],\n",
       "       [ 1.1893265 , -0.20980684],\n",
       "       [ 0.8345978 ,  0.35461917],\n",
       "       [-0.67299917,  0.9447009 ],\n",
       "       [-0.14090612,  1.07297954],\n",
       "       [-0.67299917, -0.87685576],\n",
       "       [ 0.74591563, -0.31242975],\n",
       "       [ 1.01196215, -1.95439632],\n",
       "       [ 0.8345978 , -0.72292139],\n",
       "       [ 1.8987839 ,  1.07297954],\n",
       "       [ 0.74591563, -0.87685576],\n",
       "       [-0.67299917,  2.56101175],\n",
       "       [-0.49563482,  0.27765199],\n",
       "       [-1.02772787,  0.99601236],\n",
       "       [-0.85036352, -1.5695604 ],\n",
       "       [-1.47113875,  1.94527428],\n",
       "       [ 0.03645823, -0.00456102],\n",
       "       [-0.67299917,  0.2006848 ],\n",
       "       [-0.49563482, -0.44070839],\n",
       "       [-0.85036352, -0.85120003],\n",
       "       [ 0.03645823, -0.56898703],\n",
       "       [ 0.39118693, -0.20980684],\n",
       "       [-1.11641005, -0.0815282 ],\n",
       "       [ 1.27800868,  0.2006848 ],\n",
       "       [-2.3579605 ,  1.50912691],\n",
       "       [ 0.4798691 ,  0.91904518],\n",
       "       [ 0.1251404 ,  0.81642227],\n",
       "       [ 0.1251404 , -1.10775731],\n",
       "       [-0.2295883 ,  0.48289781],\n",
       "       [ 0.92327998, -1.54390468],\n",
       "       [-0.2295883 ,  0.40593062],\n",
       "       [-0.9390457 ,  0.68814363],\n",
       "       [ 0.1251404 , -1.51824895],\n",
       "       [ 0.21382258, -0.28677402],\n",
       "       [ 0.39118693,  0.43158635],\n",
       "       [ 0.74591563,  0.43158635],\n",
       "       [-2.18059615,  2.79191329],\n",
       "       [-0.85036352, -0.15849538],\n",
       "       [-0.584317  , -0.26111829],\n",
       "       [-1.73718527, -1.26169167],\n",
       "       [ 1.1893265 ,  0.32896344],\n",
       "       [ 0.65723345,  1.48347118],\n",
       "       [ 0.4798691 , -0.87685576],\n",
       "       [-0.49563482, -0.26111829],\n",
       "       [ 1.81010173, -1.15906876],\n",
       "       [ 0.56855128,  0.35461917],\n",
       "       [ 0.30250475, -0.5433313 ],\n",
       "       [ 0.4798691 ,  0.14937335],\n",
       "       [-1.02772787,  1.14994673],\n",
       "       [ 0.92327998,  0.3802749 ],\n",
       "       [-1.11641005, -1.85177341],\n",
       "       [-1.02772787, -0.31242975],\n",
       "       [ 0.30250475,  0.09806189],\n",
       "       [-0.2295883 ,  1.14994673],\n",
       "       [ 1.8987839 ,  0.63683217],\n",
       "       [ 0.92327998, -0.31242975],\n",
       "       [-0.05222395, -0.46636412],\n",
       "       [ 0.92327998,  1.30388109],\n",
       "       [ 1.01196215,  0.68814363],\n",
       "       [-0.584317  , -0.0815282 ],\n",
       "       [-1.11641005, -0.95382294],\n",
       "       [-0.2295883 ,  0.2006848 ],\n",
       "       [ 1.36669085,  0.86773372],\n",
       "       [ 0.65723345,  0.76511081],\n",
       "       [-0.76168135,  0.09806189],\n",
       "       [ 0.4798691 , -2.23660932],\n",
       "       [ 0.56855128, -0.10718393],\n",
       "       [ 0.8345978 ,  0.3802749 ],\n",
       "       [ 0.1251404 ,  0.2006848 ],\n",
       "       [ 0.1251404 , -0.5433313 ],\n",
       "       [-0.67299917, -0.36374121],\n",
       "       [-1.02772787,  0.43158635]])"
      ]
     },
     "execution_count": 111,
     "metadata": {},
     "output_type": "execute_result"
    }
   ],
   "source": [
    "trainX"
   ]
  },
  {
   "cell_type": "code",
   "execution_count": 112,
   "id": "6d98f85a",
   "metadata": {},
   "outputs": [],
   "source": [
    "testX=scaler.transform(testX)"
   ]
  },
  {
   "cell_type": "code",
   "execution_count": 113,
   "id": "05ca02f9",
   "metadata": {},
   "outputs": [],
   "source": [
    "from sklearn.linear_model import LogisticRegression"
   ]
  },
  {
   "cell_type": "code",
   "execution_count": 114,
   "id": "2630b2d8",
   "metadata": {},
   "outputs": [],
   "source": [
    "model=LogisticRegression()"
   ]
  },
  {
   "cell_type": "code",
   "execution_count": 115,
   "id": "31cdbc11",
   "metadata": {},
   "outputs": [
    {
     "data": {
      "text/plain": [
       "LogisticRegression()"
      ]
     },
     "execution_count": 115,
     "metadata": {},
     "output_type": "execute_result"
    }
   ],
   "source": [
    "model.fit(trainX,trainY)"
   ]
  },
  {
   "cell_type": "code",
   "execution_count": 117,
   "id": "67abe6c8",
   "metadata": {},
   "outputs": [],
   "source": [
    "predY=model.predict(testX)"
   ]
  },
  {
   "cell_type": "code",
   "execution_count": 125,
   "id": "4924aab4",
   "metadata": {},
   "outputs": [],
   "source": [
    "from sklearn.metrics import accuracy_score, confusion_matrix,recall_score,f1_score"
   ]
  },
  {
   "cell_type": "code",
   "execution_count": 126,
   "id": "53f7c40e",
   "metadata": {},
   "outputs": [
    {
     "data": {
      "text/plain": [
       "array([[3, 0],\n",
       "       [2, 5]], dtype=int64)"
      ]
     },
     "execution_count": 126,
     "metadata": {},
     "output_type": "execute_result"
    }
   ],
   "source": [
    "confusion_matrix(testY,predY)"
   ]
  },
  {
   "cell_type": "code",
   "execution_count": 127,
   "id": "8988abff",
   "metadata": {},
   "outputs": [
    {
     "data": {
      "text/plain": [
       "0.8"
      ]
     },
     "execution_count": 127,
     "metadata": {},
     "output_type": "execute_result"
    }
   ],
   "source": [
    "accuracy_score(testY,predY)"
   ]
  },
  {
   "cell_type": "code",
   "execution_count": 128,
   "id": "186a9f4c",
   "metadata": {},
   "outputs": [
    {
     "data": {
      "text/plain": [
       "0.7142857142857143"
      ]
     },
     "execution_count": 128,
     "metadata": {},
     "output_type": "execute_result"
    }
   ],
   "source": [
    "recall_score(testY,predY)"
   ]
  },
  {
   "cell_type": "code",
   "execution_count": 129,
   "id": "7a530dd8",
   "metadata": {},
   "outputs": [
    {
     "data": {
      "text/plain": [
       "0.8333333333333333"
      ]
     },
     "execution_count": 129,
     "metadata": {},
     "output_type": "execute_result"
    }
   ],
   "source": [
    "f1_score(testY,predY)"
   ]
  },
  {
   "cell_type": "code",
   "execution_count": 133,
   "id": "1678f86b",
   "metadata": {},
   "outputs": [],
   "source": [
    "from mlxtend.plotting import plot_decision_regions"
   ]
  },
  {
   "cell_type": "code",
   "execution_count": 135,
   "id": "0b2676dc",
   "metadata": {},
   "outputs": [
    {
     "data": {
      "text/plain": [
       "<AxesSubplot:>"
      ]
     },
     "execution_count": 135,
     "metadata": {},
     "output_type": "execute_result"
    },
    {
     "data": {
      "image/png": "[encoded data removed]",
      "text/plain": [
       "<Figure size 432x288 with 1 Axes>"
      ]
     },
     "metadata": {
      "needs_background": "light"
     },
     "output_type": "display_data"
    }
   ],
   "source": [
    "plot_decision_regions(trainX,trainY.values,clf=model,legend=2)"
   ]
  },
  {
   "cell_type": "code",
   "execution_count": 136,
   "id": "4d3e1014",
   "metadata": {},
   "outputs": [],
   "source": [
    "import pickle\n",
    "pickle.dump(model,open('model.pkl','wb'))"
   ]
  },
  {
   "cell_type": "code",
   "execution_count": null,
   "id": "e9c7dd3c",
   "metadata": {},
   "outputs": [],
   "source": []
  }
 ],
 "metadata": {
  "kernelspec": {
   "display_name": "Python 3 (ipykernel)",
   "language": "python",
   "name": "python3"
  },
  "language_info": {
   "codemirror_mode": {
    "name": "ipython",
    "version": 3
   },
   "file_extension": ".py",
   "mimetype": "text/x-python",
   "name": "python",
   "nbconvert_exporter": "python",
   "pygments_lexer": "ipython3",
   "version": "3.9.12"
  }
 },
 "nbformat": 4,
 "nbformat_minor": 5
}
